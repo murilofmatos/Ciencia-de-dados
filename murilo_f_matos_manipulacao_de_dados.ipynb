{
  "nbformat": 4,
  "nbformat_minor": 0,
  "metadata": {
    "colab": {
      "provenance": [],
      "authorship_tag": "ABX9TyNAKG8NvrY9qt30OtHdgP2Y",
      "include_colab_link": true
    },
    "kernelspec": {
      "name": "python3",
      "display_name": "Python 3"
    },
    "language_info": {
      "name": "python"
    }
  },
  "cells": [
    {
      "cell_type": "markdown",
      "metadata": {
        "id": "view-in-github",
        "colab_type": "text"
      },
      "source": [
        "<a href=\"https://colab.research.google.com/github/Szaboltz/data_science_ads/blob/master/Manipulando_Dados_Henrique_Szabo.ipynb\" target=\"_parent\"><img src=\"https://colab.research.google.com/assets/colab-badge.svg\" alt=\"Open In Colab\"/></a>"
      ]
    },
    {
      "cell_type": "code",
      "source": [
        "import pandas as pd"
      ],
      "metadata": {
        "id": "Z-uS4SH9mY6T"
      },
      "execution_count": 4,
      "outputs": []
    },
    {
      "cell_type": "code",
      "execution_count": 2,
      "metadata": {
        "id": "qlQD7tTjlt8j",
        "colab": {
          "base_uri": "https://localhost:8080/"
        },
        "outputId": "f1a36875-a21b-4149-a268-645c5721c35f"
      },
      "outputs": [
        {
          "output_type": "stream",
          "name": "stdout",
          "text": [
            "Mounted at /content/drive\n"
          ]
        }
      ],
      "source": [
        "from google.colab import drive\n",
        "\n",
        "drive.mount('/content/drive')"
      ]
    },
    {
      "cell_type": "code",
      "source": [
        "df = pd.read_csv('/content/drive/MyDrive/ADS/DataScience/Source/plano_saude.csv')\n",
        "print(df)"
      ],
      "metadata": {
        "id": "5WPjXo4ql3lr",
        "colab": {
          "base_uri": "https://localhost:8080/"
        },
        "outputId": "92805650-81d7-4672-80e9-cb4b8695e0ec"
      },
      "execution_count": 5,
      "outputs": [
        {
          "output_type": "stream",
          "name": "stdout",
          "text": [
            "   idade  custo1  custo2\n",
            "0     18     871     760\n",
            "1     23    1132     980\n",
            "2     28    1242    1110\n",
            "3     33    1356    1230\n",
            "4     38    1488    1340\n",
            "5     43    1638    1470\n",
            "6     48    2130    1800\n",
            "7     53    2454    2200\n",
            "8     58    3066    2890\n",
            "9     63    4090    3980\n"
          ]
        }
      ]
    },
    {
      "cell_type": "code",
      "metadata": {
        "colab": {
          "base_uri": "https://localhost:8080/"
        },
        "id": "75bdc962",
        "outputId": "97836692-9032-4b3d-9627-55440bc094ec"
      },
      "source": [
        "\n",
        "custo1_mean = df['custo1'].mean()\n",
        "custo1_median = df['custo1'].median()\n",
        "custo1_mode = df['custo1'].mode()\n",
        "custo1_std = df['custo1'].std()\n",
        "\n",
        "print(f\"Estatísticas para 'custo1':\")\n",
        "print(f\"  Média: {custo1_mean:.2f}\")\n",
        "print(f\"  Mediana: {custo1_median:.2f}\")\n",
        "print(f\"  Moda: {custo1_mode[0]}\")\n",
        "print(f\"  Desvio Padrão: {custo1_std:.2f}\")\n",
        "\n",
        "print(\"-\" * 30)\n",
        "\n",
        "# Calculate statistical measures for 'custo2'\n",
        "custo2_mean = df['custo2'].mean()\n",
        "custo2_median = df['custo2'].median()\n",
        "custo2_mode = df['custo2'].mode()\n",
        "custo2_std = df['custo2'].std()\n",
        "\n",
        "print(f\"Estatísticas para 'custo2':\")\n",
        "print(f\"  Média: {custo2_mean:.2f}\")\n",
        "print(f\"  Mediana: {custo2_median:.2f}\")\n",
        "print(f\"  Moda: {custo2_mode[0]}\")\n",
        "print(f\"  Desvio Padrão: {custo2_std:.2f}\")"
      ],
      "execution_count": 10,
      "outputs": [
        {
          "output_type": "stream",
          "name": "stdout",
          "text": [
            "Estatísticas para 'custo1':\n",
            "  Média: 1946.70\n",
            "  Mediana: 1563.00\n",
            "  Moda: 871\n",
            "  Desvio Padrão: 1006.07\n",
            "------------------------------\n",
            "Estatísticas para 'custo2':\n",
            "  Média: 1776.00\n",
            "  Mediana: 1405.00\n",
            "  Moda: 760\n",
            "  Desvio Padrão: 998.35\n"
          ]
        }
      ]
    },
    {
      "cell_type": "code",
      "metadata": {
        "colab": {
          "base_uri": "https://localhost:8080/"
        },
        "id": "d85a6d7e",
        "outputId": "edae6f20-714a-4edf-e4e3-b807ce248267"
      },
      "source": [
        "print(\"Comparação entre 'custo1' e 'custo2':\")\n",
        "print(f\"Média: custo1 ({custo1_mean:.2f}) vs custo2 ({custo2_mean:.2f})\")\n",
        "print(f\"Mediana: custo1 ({custo1_median:.2f}) vs custo2 ({custo2_median:.2f})\")\n",
        "print(f\"Moda: custo1 ({custo1_mode[0]}) vs custo2 ({custo2_mode[0]})\")\n",
        "print(f\"Desvio Padrão: custo1 ({custo1_std:.2f}) vs custo2 ({custo2_std:.2f})\")"
      ],
      "execution_count": 12,
      "outputs": [
        {
          "output_type": "stream",
          "name": "stdout",
          "text": [
            "Comparação entre 'custo1' e 'custo2':\n",
            "Média: custo1 (1946.70) vs custo2 (1776.00)\n",
            "Mediana: custo1 (1563.00) vs custo2 (1405.00)\n",
            "Moda: custo1 (871) vs custo2 (760)\n",
            "Desvio Padrão: custo1 (1006.07) vs custo2 (998.35)\n"
          ]
        }
      ]
    },
    {
      "cell_type": "code",
      "metadata": {
        "colab": {
          "base_uri": "https://localhost:8080/",
          "height": 430
        },
        "id": "fdd2a3a6",
        "outputId": "7f9a00f8-6171-4a06-904c-fe95a11bf6c8"
      },
      "source": [
        "import matplotlib.pyplot as plt\n",
        "\n",
        "boxplot = df.boxplot(column=[\"custo1\", \"custo2\"], showmeans=True)\n",
        "plt.show()"
      ],
      "execution_count": 14,
      "outputs": [
        {
          "output_type": "display_data",
          "data": {
            "text/plain": [
              "<Figure size 640x480 with 1 Axes>"
            ],
            "image/png": "[encoded data removed]"
          },
          "metadata": {}
        }
      ]
    }
  ]
}