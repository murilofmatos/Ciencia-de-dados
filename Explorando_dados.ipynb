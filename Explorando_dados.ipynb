{
  "nbformat": 4,
  "nbformat_minor": 0,
  "metadata": {
    "colab": {
      "provenance": [],
      "authorship_tag": "ABX9TyPMRICEf89k8t5f/h+tqVZq",
      "include_colab_link": true
    },
    "kernelspec": {
      "name": "python3",
      "display_name": "Python 3"
    },
    "language_info": {
      "name": "python"
    }
  },
  "cells": [
    {
      "cell_type": "markdown",
      "metadata": {
        "id": "view-in-github",
        "colab_type": "text"
      },
      "source": [
        "<a href=\"https://colab.research.google.com/github/Szaboltz/data_science_ads/blob/master/Explorando_Dados.ipynb\" target=\"_parent\"><img src=\"https://colab.research.google.com/assets/colab-badge.svg\" alt=\"Open In Colab\"/></a>"
      ]
    },
    {
      "cell_type": "markdown",
      "source": [
        "# **Dados**\n",
        "\n",
        "Podem ser:\n",
        "\n",
        "- Categóricos\n",
        "- Númericos\n",
        "\n",
        "Os Númericos podem ser:\n",
        "\n",
        "- Discreto (Números Inteiros, Finitos, Faixas de Números)\n",
        "- Contínuo (Números Reais)\n",
        "\n",
        "Os Categóricos podem ser:\n",
        "\n",
        "- Ordinal (Ordem, Prioridade, Importância)\n",
        "- Nominal (Rotulos, Nomes, Sem ordem, IDs de banco de dados)"
      ],
      "metadata": {
        "id": "WzNb4aialnoU"
      }
    },
    {
      "cell_type": "code",
      "execution_count": 1,
      "metadata": {
        "id": "fKuWwhwtj5Hk"
      },
      "outputs": [],
      "source": [
        "import pandas as pd"
      ]
    },
    {
      "cell_type": "code",
      "source": [
        "dados = {\n",
        "    \"renda\": [6.46, 1.50, 0.00, 2.57, 9.90, 6.22],\n",
        "    \"empregos\": [1, 1, 0, 1, 2, 3],\n",
        "    \"sexo\": [\"F\", \"M\", \"F\", \"M\", \"M\", \"F\"],\n",
        "    \"escolaridade\": [\"pós-graduação\", \"fundamental\", \"médio\", \"médio\", \"superior\", \"médio\"]\n",
        "}\n",
        "\n",
        "pme = pd.DataFrame(dados)\n",
        "\n",
        "print(pme.dtypes)"
      ],
      "metadata": {
        "id": "ETCQ2RgnnvFT"
      },
      "execution_count": null,
      "outputs": []
    },
    {
      "cell_type": "code",
      "source": [
        "# Dados estatísticos básico: Medidas e tendênia central.\n",
        "\n",
        "# Média\n",
        "# Mediana\n",
        "# Moda\n",
        "\n",
        "dados = {\n",
        "    \"jogador\": [\"Marelo\", \"Pedro\", \"Marcelo\", \"Adriano\", \"Mauro\", \"Pedro\", \"Marcelo\"],\n",
        "    \"infracao\": [\"FALTA VIOLENTA\", \"RECLAMACAO\", \"FALTA COMUM\", \"RECLAMACAO\", \"FALTA COMUM\", \"FALTA VIOLENTA\", \"RECLAMACAO\"],\n",
        "    \"punicao\": [4, 1, 3, 2, 4, 4, 2]\n",
        "}\n",
        "\n",
        "df = pd.DataFrame(dados)\n",
        "\n",
        "print(\"Média: \", df[\"punicao\"].mean())\n",
        "print(\"Mediana: \", df[\"punicao\"].median())\n",
        "print(\"Moda: \", df[\"punicao\"].mode().values)"
      ],
      "metadata": {
        "colab": {
          "base_uri": "https://localhost:8080/"
        },
        "id": "1gE3D38vnvcr",
        "outputId": "e84b2c80-576e-466e-af3a-9b74990a7b26"
      },
      "execution_count": 6,
      "outputs": [
        {
          "output_type": "stream",
          "name": "stdout",
          "text": [
            "Média:  2.857142857142857\n",
            "Mediana:  3.0\n",
            "Moda:  [4]\n"
          ]
        }
      ]
    },
    {
      "cell_type": "code",
      "source": [
        "dados = {\n",
        "    \"jogador\": [\"Marelo\", \"Pedro\", \"Marcelo\", \"Adriano\", \"Mauro\", \"Pedro\", \"Marcelo\"],\n",
        "    \"infracao\": [\"FALTA VIOLENTA\", \"RECLAMACAO\", \"FALTA COMUM\", \"RECLAMACAO\", \"FALTA COMUM\", \"FALTA VIOLENTA\", \"RECLAMACAO\"],\n",
        "    \"juiz_A\": [4, 1, 3, 2, 4, 4, 2],\n",
        "    \"juiz_B\": [2, 1, 4, 1, 1, 5, 6]\n",
        "}\n",
        "\n",
        "df = pd.DataFrame(dados)\n",
        "\n",
        "print(\"Juiz A\")\n",
        "print(\"Média: \", f\"{df['juiz_A'].mean():.3f}\")\n",
        "print(\"Mediana: \", df[\"juiz_A\"].median())\n",
        "print(\"Moda: \", df[\"juiz_A\"].mode().values)\n",
        "print(\"Amplitude: \", df[\"juiz_A\"].max() - df[\"juiz_A\"].min())\n",
        "print(\"Variância: \", f\"{df['juiz_A'].var():.3f}\")\n",
        "print(\"Desvio Padrão: \", f\"{df['juiz_A'].std():.3f}\")\n",
        "print()\n",
        "print(\"Juiz B\")\n",
        "print(\"Média: \", df[\"juiz_B\"].mean())\n",
        "print(\"Mediana: \", df[\"juiz_B\"].median())\n",
        "print(\"Moda: \", df[\"juiz_B\"].mode().values)\n",
        "print(\"Amplitude: \", df[\"juiz_B\"].max() - df[\"juiz_B\"].min())\n",
        "print(\"Variância: \", f\"{df['juiz_B'].var():.3f}\")\n",
        "print(\"Desvio Padrão: \", f\"{df['juiz_B'].std():.3f}\")"
      ],
      "metadata": {
        "colab": {
          "base_uri": "https://localhost:8080/"
        },
        "id": "a4SCK_u0r_NY",
        "outputId": "6fdaeb87-7971-42c3-baa9-16947999f651"
      },
      "execution_count": 16,
      "outputs": [
        {
          "output_type": "stream",
          "name": "stdout",
          "text": [
            "Juiz A\n",
            "Média:  2.857\n",
            "Mediana:  3.0\n",
            "Moda:  [4]\n",
            "Amplitude:  3\n",
            "Variância:  1.476\n",
            "Desvio Padrão:  1.215\n",
            "\n",
            "Juiz B\n",
            "Média:  2.857142857142857\n",
            "Mediana:  2.0\n",
            "Moda:  [1]\n",
            "Amplitude:  5\n",
            "Variância:  4.476\n",
            "Desvio Padrão:  2.116\n"
          ]
        }
      ]
    },
    {
      "cell_type": "code",
      "source": [
        "ja_amplitude =  round(df['juiz_A'].max() - df['juiz_A'].min(), 3)\n",
        "ja_variacao = round(df['juiz_A'].var(), 3)\n",
        "ja_desvio = round(df['juiz_A'].std(), 3)\n",
        "ja_media = round(df[\"juiz_A\"].mean(), 3)\n",
        "ja_mediana = round(df[\"juiz_A\"].median(), 3)\n",
        "ja_moda = df[\"juiz_A\"].mode().values\n",
        "\n",
        "jb_amplitude =  round(df[\"juiz_B\"].max() - df[\"juiz_B\"].min(), 3)\n",
        "jb_variacao = round(df['juiz_B'].var(), 3)\n",
        "jb_desvio = round(df['juiz_B'].std(), 3)\n",
        "jb_media = round(df[\"juiz_B\"].mean(), 3)\n",
        "jb_mediana = round(df[\"juiz_B\"].median(), 3)\n",
        "jb_moda = df[\"juiz_B\"].mode().values\n",
        "\n",
        "print (\"Valores         | Juiz A     |     Juiz B      \")\n",
        "print (\"-------------------------------------------------\")\n",
        "print (\"Amplitude       |\", ja_amplitude, \"         |    \", jb_amplitude)\n",
        "print (\"Variância       |\", ja_variacao, \"     |    \", jb_variacao)\n",
        "print (\"Desvio Padrão   |\", ja_desvio, \"     |    \", jb_desvio)\n",
        "print (\"Média           |\", ja_media, \"     |    \", jb_media)\n",
        "print (\"Mediana         |\", ja_mediana, \"       |    \", jb_mediana)\n",
        "print (\"Moda            |\", ja_moda[0], \"         |    \", jb_moda[0])\n",
        "\n"
      ],
      "metadata": {
        "colab": {
          "base_uri": "https://localhost:8080/"
        },
        "id": "-DID3Ku2x4gV",
        "outputId": "2e31cc81-35b8-4f01-ca88-b52e722229c3"
      },
      "execution_count": 58,
      "outputs": [
        {
          "output_type": "stream",
          "name": "stdout",
          "text": [
            "Valores         | Juiz A     |     Juiz B      \n",
            "-------------------------------------------------\n",
            "Amplitude       | 3          |     5\n",
            "Variância       | 1.476      |     4.476\n",
            "Desvio Padrão   | 1.215      |     2.116\n",
            "Média           | 2.857      |     2.857\n",
            "Mediana         | 3.0        |     2.0\n",
            "Moda            | 4          |     1\n"
          ]
        }
      ]
    },
    {
      "cell_type": "code",
      "source": [
        "import matplotlib.pyplot as plt"
      ],
      "metadata": {
        "id": "MPhN4Ssa9dSb"
      },
      "execution_count": 59,
      "outputs": []
    },
    {
      "cell_type": "code",
      "source": [
        "df = pd.DataFrame({\n",
        "    \"homens\": [4, 2, 7 ,3, 1, 4, 2, 4, 8, 1],\n",
        "    \"mulheres\": [5, 4, 6, 5, 4, 2, 6, 6, 4, 3]\n",
        "})\n",
        "\n",
        "boxplot = df.boxplot(column=[\"homens\", \"mulheres\"], showmeans=True)\n",
        "\n",
        "plt.show()"
      ],
      "metadata": {
        "colab": {
          "base_uri": "https://localhost:8080/",
          "height": 430
        },
        "id": "CC2GLeSb9juk",
        "outputId": "955749a0-ad88-45a1-b990-a8dba4594e40"
      },
      "execution_count": 63,
      "outputs": [
        {
          "output_type": "display_data",
          "data": {
            "text/plain": [
              "<Figure size 640x480 with 1 Axes>"
            ],
            "image/png": "[encoded data removed]"
          },
          "metadata": {}
        }
      ]
    },
    {
      "cell_type": "code",
      "source": [
        "notas = pd.DataFrame({\n",
        "    \"A1\": [9.8, 7.2, 8.0],\n",
        "    \"A2\": [5.3, 4.0, 3.5],\n",
        "    \"A3\": [5.5, 8.1, 7.2],\n",
        "    \"A4\": [7.0, 7.5, 6.5],\n",
        "}, index=[\"P1\", \"P2\", \"P3\"])\n",
        "\n",
        "print(\"Notas Finais \")\n",
        "print(\"-----------------------------\")\n",
        "print(notas)\n",
        "print()\n",
        "print(\"Média Aritmética: \", notas.mean(axis=1))\n",
        "print(\"Média de cada aluno \")\n",
        "print()\n",
        "print(notas.mean())\n",
        "print()\n",
        "\n",
        "print(\"Maior nota de cada aluno\")\n",
        "print(\"-----------------------------\")\n",
        "print(notas.max())\n",
        "print()\n",
        "\n",
        "print(\"Menor nota de cada aluno\")\n",
        "print(\"-----------------------------\")\n",
        "print(notas.min())\n",
        "print()\n",
        "\n",
        "print(\"Maior nota da turma\")\n",
        "print(\"-----------------------------\")\n",
        "print(notas.max().max)\n",
        "\n",
        "print(\"Média de cada prova\")\n",
        "print(\"-----------------------------\")\n",
        "print(notas.mean(axis=1))\n",
        "\n",
        "print(\"Maior nota de cada prova\")\n",
        "print(\"-----------------------------\")\n",
        "print(notas.max(axis=1))\n",
        "\n",
        "print(\"Menor nota de cada prova\")\n",
        "print(\"-----------------------------\")\n",
        "print(notas.min(axis=1))"
      ],
      "metadata": {
        "colab": {
          "base_uri": "https://localhost:8080/"
        },
        "id": "Y7T8IWj9_iaS",
        "outputId": "cef31f77-5bc7-4786-f034-8b21fc9efb8d"
      },
      "execution_count": 67,
      "outputs": [
        {
          "output_type": "stream",
          "name": "stdout",
          "text": [
            "Notas Finais \n",
            "-----------------------------\n",
            "     A1   A2   A3   A4\n",
            "P1  9.8  5.3  5.5  7.0\n",
            "P2  7.2  4.0  8.1  7.5\n",
            "P3  8.0  3.5  7.2  6.5\n",
            "\n",
            "Média Aritmética:  P1    6.9\n",
            "P2    6.7\n",
            "P3    6.3\n",
            "dtype: float64\n",
            "Média de cada aluno \n",
            "\n",
            "A1    8.333333\n",
            "A2    4.266667\n",
            "A3    6.933333\n",
            "A4    7.000000\n",
            "dtype: float64\n",
            "\n",
            "Maior nota de cada aluno\n",
            "-----------------------------\n",
            "A1    9.8\n",
            "A2    5.3\n",
            "A3    8.1\n",
            "A4    7.5\n",
            "dtype: float64\n",
            "\n",
            "Menor nota de cada aluno\n",
            "-----------------------------\n",
            "A1    7.2\n",
            "A2    3.5\n",
            "A3    5.5\n",
            "A4    6.5\n",
            "dtype: float64\n",
            "\n",
            "Maior nota da turma\n",
            "-----------------------------\n",
            "<bound method Series.max of A1    9.8\n",
            "A2    5.3\n",
            "A3    8.1\n",
            "A4    7.5\n",
            "dtype: float64>\n",
            "Média de cada prova\n",
            "-----------------------------\n",
            "P1    6.9\n",
            "P2    6.7\n",
            "P3    6.3\n",
            "dtype: float64\n",
            "Maior nota de cada prova\n",
            "-----------------------------\n",
            "P1    9.8\n",
            "P2    8.1\n",
            "P3    8.0\n",
            "dtype: float64\n",
            "Menor nota de cada prova\n",
            "-----------------------------\n",
            "P1    5.3\n",
            "P2    4.0\n",
            "P3    3.5\n",
            "dtype: float64\n"
          ]
        }
      ]
    },
    {
      "cell_type": "code",
      "source": [
        "dados = {\n",
        "    \"nadador\": [\"Simonas Bills\", \"Benajamin Pround\", \"Antony Ervin\", \"Florent Manaudou\", \"Andrly Hovorov\", \"Nathan Adrian\", \"Bruno Fratus\", \"Brad Tandy\"],\n",
        "    \"nacionalidade\": [\"Lituãnia\", \"Grã-Bretanha\", \"Estados Unidos\", \"França\", \"Ucrânia\", \"Estados Unidos\", \"Brasil\", \"Africa do Sul\"],\n",
        "    \"tempo\": [22.08, 21.68, 21.40, 21.41, 21.74, 21.49, 21.79, 21.79]\n",
        "}\n",
        "\n",
        "raias = list(range(1,9))\n",
        "prova50m = pd.DataFrame(dados, index=raias)\n",
        "\n",
        "prova50m.index.name = \"raia\"\n",
        "\n",
        "prova50m = prova50m.sort_values(by=\"tempo\")\n",
        "\n",
        "print(prova50m)\n",
        "\n",
        "resultado_por_raia = prova50m['tempo'].rank(method='min')\n",
        "print(resultado_por_raia)"
      ],
      "metadata": {
        "colab": {
          "base_uri": "https://localhost:8080/"
        },
        "id": "ftjnYuPQEqPK",
        "outputId": "f0838529-46ee-48dd-aafd-78f2a4c2116a"
      },
      "execution_count": 74,
      "outputs": [
        {
          "output_type": "stream",
          "name": "stdout",
          "text": [
            "               nadador   nacionalidade  tempo\n",
            "raia                                         \n",
            "3         Antony Ervin  Estados Unidos  21.40\n",
            "4     Florent Manaudou          França  21.41\n",
            "6        Nathan Adrian  Estados Unidos  21.49\n",
            "2     Benajamin Pround    Grã-Bretanha  21.68\n",
            "5       Andrly Hovorov         Ucrânia  21.74\n",
            "7         Bruno Fratus          Brasil  21.79\n",
            "8           Brad Tandy   Africa do Sul  21.79\n",
            "1        Simonas Bills        Lituãnia  22.08\n",
            "raia\n",
            "3    1.0\n",
            "4    2.0\n",
            "6    3.0\n",
            "2    4.0\n",
            "5    5.0\n",
            "7    6.0\n",
            "8    6.0\n",
            "1    8.0\n",
            "Name: tempo, dtype: float64\n"
          ]
        }
      ]
    }
  ]
}
