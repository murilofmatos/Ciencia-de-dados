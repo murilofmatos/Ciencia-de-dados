{
  "nbformat": 4,
  "nbformat_minor": 0,
  "metadata": {
    "colab": {
      "provenance": [],
      "generative_ai_disabled": true,
      "include_colab_link": true
    },
    "kernelspec": {
      "name": "python3",
      "display_name": "Python 3"
    },
    "language_info": {
      "name": "python"
    }
  },
  "cells": [
    {
      "cell_type": "markdown",
      "metadata": {
        "id": "view-in-github",
        "colab_type": "text"
      },
      "source": [
        "<a href=\"https://colab.research.google.com/github/Szaboltz/data_science_ads/blob/master/series.ipynb\" target=\"_parent\"><img src=\"https://colab.research.google.com/assets/colab-badge.svg\" alt=\"Open In Colab\"/></a>"
      ]
    },
    {
      "cell_type": "code",
      "execution_count": null,
      "metadata": {
        "id": "gDPgfApnctS2"
      },
      "outputs": [],
      "source": [
        "import pandas as pd"
      ]
    },
    {
      "cell_type": "code",
      "source": [
        "# Criar a Series notas\n",
        "grades = pd.Series([7.6, 5.8, 8.5, 9.5, 6.4])\n",
        "\n",
        "# Criar a Series alunos\n",
        "lst_registration = ['M02', 'M05', 'M13', 'M14', 'M19']\n",
        "lst_names = ['Bob', 'Dayse', 'Bill', 'Cris', 'Jimi']\n",
        "students = pd.Series(lst_names, index=lst_registration)\n",
        "\n",
        "print(grades)\n",
        "print('------------------------')\n",
        "print(students)"
      ],
      "metadata": {
        "colab": {
          "base_uri": "https://localhost:8080/"
        },
        "id": "4dZqZulFeFaO",
        "outputId": "51c17dc9-223a-40f8-f3ac-a045d2164778"
      },
      "execution_count": null,
      "outputs": [
        {
          "output_type": "stream",
          "name": "stdout",
          "text": [
            "0    7.6\n",
            "1    5.8\n",
            "2    8.5\n",
            "3    9.5\n",
            "4    6.4\n",
            "dtype: float64\n",
            "------------------------\n",
            "M02      Bob\n",
            "M05    Dayse\n",
            "M13     Bill\n",
            "M14     Cris\n",
            "M19     Jimi\n",
            "dtype: object\n"
          ]
        }
      ]
    },
    {
      "cell_type": "code",
      "source": [
        "# Criação de Series - Dicionario\n",
        "dic_students = {'M02':'Bob', 'M05':'Dayse', 'M13':'Bill', 'M14':'Cris', 'M19':'Jimi'}\n",
        "students2 = pd.Series(dic_students)\n",
        "print(students2)"
      ],
      "metadata": {
        "colab": {
          "base_uri": "https://localhost:8080/"
        },
        "id": "zyal5RpzgV4Y",
        "outputId": "d27b6466-aca7-4d8e-a299-5a77f4949f56"
      },
      "execution_count": null,
      "outputs": [
        {
          "output_type": "stream",
          "name": "stdout",
          "text": [
            "M02      Bob\n",
            "M05    Dayse\n",
            "M13     Bill\n",
            "M14     Cris\n",
            "M19     Jimi\n",
            "dtype: object\n"
          ]
        }
      ]
    },
    {
      "cell_type": "code",
      "source": [
        "# Propriedades básicas das Series\n",
        "students = pd.Series({'M02':'Bob', 'M05':'Dayse', 'M13':'Bill', 'M14':'Cris', 'M19':'Jimi'})\n",
        "\n",
        "# Atribuição de nomes para os vetores de dados e rótulos (indices)\n",
        "students.name = \"alunos\"\n",
        "students.index.name = \"matricula\"\n",
        "\n",
        "print(students)\n",
        "\n",
        "size = students.size\n",
        "data = students.values\n",
        "labels = students.index\n",
        "students_type = type(students)\n",
        "students_dtype = students.dtype\n",
        "students_idx_dtype = students.index.dtype\n",
        "\n",
        "print('numero de elementos: ', size)\n",
        "print('vetor de dados: ', data)\n",
        "print('vetor de rotulos: ', labels)\n",
        "print('tipo (type): ', students_type)\n",
        "print('dtype da series: ', students_dtype)\n",
        "print('dtype do vetor e dados: ', students_idx_dtype)"
      ],
      "metadata": {
        "colab": {
          "base_uri": "https://localhost:8080/"
        },
        "id": "7nhi7b10hWb1",
        "outputId": "0d54baa1-1cf0-4285-842c-925fe52e3ac4"
      },
      "execution_count": null,
      "outputs": [
        {
          "output_type": "stream",
          "name": "stdout",
          "text": [
            "matricula\n",
            "M02      Bob\n",
            "M05    Dayse\n",
            "M13     Bill\n",
            "M14     Cris\n",
            "M19     Jimi\n",
            "Name: alunos, dtype: object\n",
            "numero de elementos:  5\n",
            "vetor de dados:  ['Bob' 'Dayse' 'Bill' 'Cris' 'Jimi']\n",
            "vetor de rotulos:  Index(['M02', 'M05', 'M13', 'M14', 'M19'], dtype='object', name='matricula')\n",
            "tipo (type):  <class 'pandas.core.series.Series'>\n",
            "dtype da series:  object\n",
            "dtype do vetor e dados:  object\n"
          ]
        }
      ]
    },
    {
      "cell_type": "code",
      "source": [
        "# Indexação booleano\n",
        "# Obtém os indices dos alunos aprovados\n",
        "idx_approved = grades[grades >= 7].index\n",
        "\n",
        "#imprimi os alunos aprovados\n",
        "print('Relação de alunos aprovados')\n",
        "print('---------------------------')\n",
        "#print(students[idx_approved])\n",
        "print(students.iloc[idx_approved])"
      ],
      "metadata": {
        "colab": {
          "base_uri": "https://localhost:8080/"
        },
        "id": "zLztgIxsk3BP",
        "outputId": "c05e07e7-1074-46ab-89a2-27a90597885a"
      },
      "execution_count": null,
      "outputs": [
        {
          "output_type": "stream",
          "name": "stdout",
          "text": [
            "Relação de alunos aprovados\n",
            "---------------------------\n",
            "matricula\n",
            "M02     Bob\n",
            "M13    Bill\n",
            "M14    Cris\n",
            "Name: alunos, dtype: object\n"
          ]
        }
      ]
    },
    {
      "cell_type": "code",
      "source": [
        "# Buscas em series\n",
        "\n",
        "has_m13 = 'M13' in students\n",
        "has_m99 = 'M99' in students\n",
        "print('Existe o rotulo \"M13\": ', has_m13)\n",
        "print('Existe o rotulo \"M99\": ', has_m99)\n",
        "\n",
        "# esta se valor faz parte da Series\n",
        "has_bob = students.isin(['Bob'])\n",
        "print('Existe o valor \"Bob\"? ', has_bob)\n",
        "\n",
        "has_bob = students.isin(['Cris'])\n",
        "print('Existe o valor \"Cris\"? ', has_bob)"
      ],
      "metadata": {
        "colab": {
          "base_uri": "https://localhost:8080/"
        },
        "id": "Du0mi07HmNfo",
        "outputId": "4c125228-42ee-43ae-f750-f02a53a7c629"
      },
      "execution_count": 15,
      "outputs": [
        {
          "output_type": "stream",
          "name": "stdout",
          "text": [
            "Existe o rotulo \"M13\":  True\n",
            "Existe o rotulo \"M99\":  False\n",
            "Existe o valor \"Bob\"?  matricula\n",
            "M02     True\n",
            "M05    False\n",
            "M13    False\n",
            "M14    False\n",
            "M19    False\n",
            "Name: alunos, dtype: bool\n",
            "Existe o valor \"Cris\"?  matricula\n",
            "M02    False\n",
            "M05    False\n",
            "M13    False\n",
            "M14     True\n",
            "M19    False\n",
            "Name: alunos, dtype: bool\n"
          ]
        }
      ]
    },
    {
      "cell_type": "code",
      "source": [
        "# Inserindo, alterando e removendo elementos de series\n",
        "\n",
        "\n",
        "print('Series original')\n",
        "print(students)\n",
        "\n",
        "# Insert one tuent with code M55, Rakesh\n",
        "students['M55'] = 'Rakesh'\n",
        "print(students)\n",
        "\n",
        "# Update names from bill, Cris and Jimi into Billy, Cristy and Jimy\n",
        "students['M13'] = 'Billy'\n",
        "students[['M14', 'M19']]  = ['Cristy', 'Jimy']\n",
        "\n",
        "print(students)\n",
        "\n",
        "# Remove the M02 Student (Bob)\n",
        "students = students.drop('M02')\n",
        "\n",
        "print(students)\n",
        "\n"
      ],
      "metadata": {
        "colab": {
          "base_uri": "https://localhost:8080/"
        },
        "id": "YTu5Q_snpcDl",
        "outputId": "fc500765-2dd1-41ab-89f0-6ab2f7eae766"
      },
      "execution_count": 17,
      "outputs": [
        {
          "output_type": "stream",
          "name": "stdout",
          "text": [
            "Series original\n",
            "matricula\n",
            "M02       Bob\n",
            "M05     Dayse\n",
            "M13     Billy\n",
            "M14    Cristy\n",
            "M19      Jimy\n",
            "M55    Rakesh\n",
            "Name: alunos, dtype: object\n",
            "matricula\n",
            "M02       Bob\n",
            "M05     Dayse\n",
            "M13     Billy\n",
            "M14    Cristy\n",
            "M19      Jimy\n",
            "M55    Rakesh\n",
            "Name: alunos, dtype: object\n",
            "matricula\n",
            "M02       Bob\n",
            "M05     Dayse\n",
            "M13     Billy\n",
            "M14    Cristy\n",
            "M19      Jimy\n",
            "M55    Rakesh\n",
            "Name: alunos, dtype: object\n"
          ]
        }
      ]
    },
    {
      "cell_type": "code",
      "source": [
        "students = pd.Series({'M02':'Bob', 'M05':'Dayse', 'M13':'Bill', 'M14':'Cris', 'M19':'Jimi'})\n",
        "print(students)\n",
        "\n",
        "students.index = ['M91','M92', 'M93', 'M94', 'M95']\n",
        "print(students)"
      ],
      "metadata": {
        "id": "28ScHt-csQFO"
      },
      "execution_count": null,
      "outputs": []
    },
    {
      "cell_type": "code",
      "source": [
        "for student in students: print(student)\n",
        "\n",
        "for position in students.index: print(position)"
      ],
      "metadata": {
        "id": "hjNy5V3_stx6"
      },
      "execution_count": null,
      "outputs": []
    },
    {
      "cell_type": "code",
      "source": [
        "# Operações Aritméticas com computação vetorizada\n",
        "#import pandas as pd\n",
        "import numpy as np\n",
        "\n",
        "# Cria as Series s1 e s2\n",
        "s1 = pd.Series([2, 4, 6])\n",
        "s2 = pd.Series([1, 3, 5])\n",
        "\n",
        "print('s1 ')\n",
        "print(s1)\n",
        "print('s2 ')\n",
        "print(s2)\n",
        "\n",
        "print('s1 * s2')\n",
        "print(s1 * s2)\n",
        "\n",
        "print('s1 + s2')\n",
        "print(s1 + s2)\n",
        "\n",
        "print('s1 - s2')\n",
        "print(s1 - s2)\n",
        "\n",
        "print('s1 / s2')\n",
        "print(s1 / s2)\n",
        "\n",
        "print('s1 & s2')\n",
        "print(s1 & s2)\n",
        "\n",
        "print('s1 + s2')\n",
        "print(np.sqrt(s1) + np.sqrt(s2))"
      ],
      "metadata": {
        "colab": {
          "base_uri": "https://localhost:8080/"
        },
        "id": "osQafTcYs9vb",
        "outputId": "e640019f-83e0-4fe6-dfea-3cda3c5f1579"
      },
      "execution_count": 23,
      "outputs": [
        {
          "output_type": "stream",
          "name": "stdout",
          "text": [
            "s1 \n",
            "0    2\n",
            "1    4\n",
            "2    6\n",
            "dtype: int64\n",
            "s2 \n",
            "0    1\n",
            "1    3\n",
            "2    5\n",
            "dtype: int64\n",
            "s1 * s2\n",
            "0     2\n",
            "1    12\n",
            "2    30\n",
            "dtype: int64\n",
            "s1 + s2\n",
            "0     3\n",
            "1     7\n",
            "2    11\n",
            "dtype: int64\n",
            "s1 - s2\n",
            "0    1\n",
            "1    1\n",
            "2    1\n",
            "dtype: int64\n",
            "s1 / s2\n",
            "0    2.000000\n",
            "1    1.333333\n",
            "2    1.200000\n",
            "dtype: float64\n",
            "s1 & s2\n",
            "0    0\n",
            "1    0\n",
            "2    4\n",
            "dtype: int64\n",
            "s1 + s2\n",
            "0    2.414214\n",
            "1    3.732051\n",
            "2    4.685558\n",
            "dtype: float64\n"
          ]
        }
      ]
    },
    {
      "cell_type": "code",
      "source": [
        "# Valor NaN\n",
        "\n",
        "green = pd.Series({'BR':1, 'FR':0, 'IT': 1, 'UK':0})\n",
        "blue = pd.Series({'AR': 1, 'BR': 1, 'FR': 1, 'IT': 0, 'UK': 1})\n",
        "total = green + blue\n",
        "print(\"Soma\")\n",
        "print(total)\n",
        "print('-------------------------')\n",
        "print('isNull(total)')\n",
        "print(pd.isnull(total))"
      ],
      "metadata": {
        "colab": {
          "base_uri": "https://localhost:8080/"
        },
        "id": "Gsx3RDfCuriw",
        "outputId": "cbf9467d-744a-4f27-8408-c1027d07c850"
      },
      "execution_count": 32,
      "outputs": [
        {
          "output_type": "stream",
          "name": "stdout",
          "text": [
            "Soma\n",
            "AR    NaN\n",
            "BR    2.0\n",
            "FR    1.0\n",
            "IT    1.0\n",
            "UK    1.0\n",
            "dtype: float64\n",
            "-------------------------\n",
            "isNull(total)\n",
            "AR     True\n",
            "BR    False\n",
            "FR    False\n",
            "IT    False\n",
            "UK    False\n",
            "dtype: bool\n"
          ]
        }
      ]
    },
    {
      "cell_type": "code",
      "source": [
        "#Datetime\n",
        "\n",
        "# Cria uma serie temporal\n",
        "\n",
        "days = ['10/02/2019', '11/02/2019', '12/02/2019', '13/02/2019', '14/02/2019', '15/02/2019']\n",
        "temp_max = [31, 35, 34, 28, 27, 27]\n",
        "serie_temporal = pd.Series(temp_max, index=days)\n",
        "\n",
        "serie_temporal.index = pd.to_datetime(serie_temporal.index, format='%d/%m/%Y')\n",
        "\n",
        "print(serie_temporal)"
      ],
      "metadata": {
        "colab": {
          "base_uri": "https://localhost:8080/"
        },
        "id": "VASBxwMT3JWM",
        "outputId": "a29f09ce-4b72-456c-df3e-d95702a211c4"
      },
      "execution_count": 38,
      "outputs": [
        {
          "output_type": "stream",
          "name": "stdout",
          "text": [
            "2019-02-10    31\n",
            "2019-02-11    35\n",
            "2019-02-12    34\n",
            "2019-02-13    28\n",
            "2019-02-14    27\n",
            "2019-02-15    27\n",
            "dtype: int64\n"
          ]
        }
      ]
    },
    {
      "cell_type": "code",
      "source": [
        "# hierarquia\n",
        "\n",
        "money = ['Peso', 'Real', 'Euro', 'Libra']\n",
        "countries = [[ 'America', 'America', 'Europa', 'Europa', 'Europa' ], ['AR', 'BR', 'FR', 'IT', 'UK']]\n",
        "\n",
        "lst_countries = pd.Series(money, index=countries)\n",
        "print(lst_countries)\n",
        "print('--------------------------')\n",
        "print(lst_countries['America'])\n",
        "print('--------------------------')\n",
        "print(lst_countries[:, 'IT'])\n",
        "print('--------------------------')\n",
        "print(lst_countries['Europa', 'IT'])\n"
      ],
      "metadata": {
        "colab": {
          "base_uri": "https://localhost:8080/",
          "height": 373
        },
        "id": "JwoTVYS07DC3",
        "outputId": "7a2e8222-d8c1-41c6-b1db-4d607f617dab"
      },
      "execution_count": 41,
      "outputs": [
        {
          "output_type": "error",
          "ename": "ValueError",
          "evalue": "Length of values (4) does not match length of index (5)",
          "traceback": [
            "\u001b[0;31m---------------------------------------------------------------------------\u001b[0m",
            "\u001b[0;31mValueError\u001b[0m                                Traceback (most recent call last)",
            "\u001b[0;32m/tmp/ipython-input-1511725742.py\u001b[0m in \u001b[0;36m<cell line: 0>\u001b[0;34m()\u001b[0m\n\u001b[1;32m      4\u001b[0m \u001b[0mcountries\u001b[0m \u001b[0;34m=\u001b[0m \u001b[0;34m[\u001b[0m\u001b[0;34m[\u001b[0m \u001b[0;34m'America'\u001b[0m\u001b[0;34m,\u001b[0m \u001b[0;34m'America'\u001b[0m\u001b[0;34m,\u001b[0m \u001b[0;34m'Europa'\u001b[0m\u001b[0;34m,\u001b[0m \u001b[0;34m'Europa'\u001b[0m\u001b[0;34m,\u001b[0m \u001b[0;34m'Europa'\u001b[0m \u001b[0;34m]\u001b[0m\u001b[0;34m,\u001b[0m \u001b[0;34m[\u001b[0m\u001b[0;34m'AR'\u001b[0m\u001b[0;34m,\u001b[0m \u001b[0;34m'BR'\u001b[0m\u001b[0;34m,\u001b[0m \u001b[0;34m'FR'\u001b[0m\u001b[0;34m,\u001b[0m \u001b[0;34m'IT'\u001b[0m\u001b[0;34m,\u001b[0m \u001b[0;34m'UK'\u001b[0m\u001b[0;34m]\u001b[0m\u001b[0;34m]\u001b[0m\u001b[0;34m\u001b[0m\u001b[0;34m\u001b[0m\u001b[0m\n\u001b[1;32m      5\u001b[0m \u001b[0;34m\u001b[0m\u001b[0m\n\u001b[0;32m----> 6\u001b[0;31m \u001b[0mlst_countries\u001b[0m \u001b[0;34m=\u001b[0m \u001b[0mpd\u001b[0m\u001b[0;34m.\u001b[0m\u001b[0mSeries\u001b[0m\u001b[0;34m(\u001b[0m\u001b[0mmoney\u001b[0m\u001b[0;34m,\u001b[0m \u001b[0mindex\u001b[0m\u001b[0;34m=\u001b[0m\u001b[0mcountries\u001b[0m\u001b[0;34m)\u001b[0m\u001b[0;34m\u001b[0m\u001b[0;34m\u001b[0m\u001b[0m\n\u001b[0m\u001b[1;32m      7\u001b[0m \u001b[0mprint\u001b[0m\u001b[0;34m(\u001b[0m\u001b[0mlst_countries\u001b[0m\u001b[0;34m)\u001b[0m\u001b[0;34m\u001b[0m\u001b[0;34m\u001b[0m\u001b[0m\n\u001b[1;32m      8\u001b[0m \u001b[0mprint\u001b[0m\u001b[0;34m(\u001b[0m\u001b[0;34m'--------------------------'\u001b[0m\u001b[0;34m)\u001b[0m\u001b[0;34m\u001b[0m\u001b[0;34m\u001b[0m\u001b[0m\n",
            "\u001b[0;32m/usr/local/lib/python3.11/dist-packages/pandas/core/series.py\u001b[0m in \u001b[0;36m__init__\u001b[0;34m(self, data, index, dtype, name, copy, fastpath)\u001b[0m\n\u001b[1;32m    573\u001b[0m             \u001b[0mindex\u001b[0m \u001b[0;34m=\u001b[0m \u001b[0mdefault_index\u001b[0m\u001b[0;34m(\u001b[0m\u001b[0mlen\u001b[0m\u001b[0;34m(\u001b[0m\u001b[0mdata\u001b[0m\u001b[0;34m)\u001b[0m\u001b[0;34m)\u001b[0m\u001b[0;34m\u001b[0m\u001b[0;34m\u001b[0m\u001b[0m\n\u001b[1;32m    574\u001b[0m         \u001b[0;32melif\u001b[0m \u001b[0mis_list_like\u001b[0m\u001b[0;34m(\u001b[0m\u001b[0mdata\u001b[0m\u001b[0;34m)\u001b[0m\u001b[0;34m:\u001b[0m\u001b[0;34m\u001b[0m\u001b[0;34m\u001b[0m\u001b[0m\n\u001b[0;32m--> 575\u001b[0;31m             \u001b[0mcom\u001b[0m\u001b[0;34m.\u001b[0m\u001b[0mrequire_length_match\u001b[0m\u001b[0;34m(\u001b[0m\u001b[0mdata\u001b[0m\u001b[0;34m,\u001b[0m \u001b[0mindex\u001b[0m\u001b[0;34m)\u001b[0m\u001b[0;34m\u001b[0m\u001b[0;34m\u001b[0m\u001b[0m\n\u001b[0m\u001b[1;32m    576\u001b[0m \u001b[0;34m\u001b[0m\u001b[0m\n\u001b[1;32m    577\u001b[0m         \u001b[0;31m# create/copy the manager\u001b[0m\u001b[0;34m\u001b[0m\u001b[0;34m\u001b[0m\u001b[0m\n",
            "\u001b[0;32m/usr/local/lib/python3.11/dist-packages/pandas/core/common.py\u001b[0m in \u001b[0;36mrequire_length_match\u001b[0;34m(data, index)\u001b[0m\n\u001b[1;32m    571\u001b[0m     \"\"\"\n\u001b[1;32m    572\u001b[0m     \u001b[0;32mif\u001b[0m \u001b[0mlen\u001b[0m\u001b[0;34m(\u001b[0m\u001b[0mdata\u001b[0m\u001b[0;34m)\u001b[0m \u001b[0;34m!=\u001b[0m \u001b[0mlen\u001b[0m\u001b[0;34m(\u001b[0m\u001b[0mindex\u001b[0m\u001b[0;34m)\u001b[0m\u001b[0;34m:\u001b[0m\u001b[0;34m\u001b[0m\u001b[0;34m\u001b[0m\u001b[0m\n\u001b[0;32m--> 573\u001b[0;31m         raise ValueError(\n\u001b[0m\u001b[1;32m    574\u001b[0m             \u001b[0;34m\"Length of values \"\u001b[0m\u001b[0;34m\u001b[0m\u001b[0;34m\u001b[0m\u001b[0m\n\u001b[1;32m    575\u001b[0m             \u001b[0;34mf\"({len(data)}) \"\u001b[0m\u001b[0;34m\u001b[0m\u001b[0;34m\u001b[0m\u001b[0m\n",
            "\u001b[0;31mValueError\u001b[0m: Length of values (4) does not match length of index (5)"
          ]
        }
      ]
    }
  ]
}